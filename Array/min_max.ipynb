{
 "cells": [
  {
   "cell_type": "code",
   "execution_count": 1,
   "id": "43039b8d",
   "metadata": {},
   "outputs": [
    {
     "name": "stdout",
     "output_type": "stream",
     "text": [
      "Minimum: 1\n",
      "Maximum: 10\n"
     ]
    }
   ],
   "source": [
    "# Find the min and max of an array using minimum number of comparisons\n",
    "\n",
    "def find_min(arr):\n",
    "    minimum = float('inf')\n",
    "    for num in arr:\n",
    "        if num < minimum:\n",
    "            minimum = num\n",
    "    return minimum\n",
    "def find_max(arr):\n",
    "    maximum = float('-inf')\n",
    "    for num in arr:\n",
    "        if num>maximum:\n",
    "            maximum = num \n",
    "    return maximum\n",
    "\n",
    "arr = [1, 2, 3, 4, 5, 6, 7, 8, 9, 10]\n",
    "print(\"Minimum:\", find_min(arr))\n",
    "print(\"Maximum:\", find_max(arr))\n"
   ]
  }
 ],
 "metadata": {
  "kernelspec": {
   "display_name": "Python 3",
   "language": "python",
   "name": "python3"
  },
  "language_info": {
   "codemirror_mode": {
    "name": "ipython",
    "version": 3
   },
   "file_extension": ".py",
   "mimetype": "text/x-python",
   "name": "python",
   "nbconvert_exporter": "python",
   "pygments_lexer": "ipython3",
   "version": "3.12.2"
  }
 },
 "nbformat": 4,
 "nbformat_minor": 5
}
