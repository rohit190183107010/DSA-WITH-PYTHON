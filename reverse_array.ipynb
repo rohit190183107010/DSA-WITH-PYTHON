{
 "cells": [
  {
   "cell_type": "code",
   "execution_count": 2,
   "id": "69aa75ef",
   "metadata": {},
   "outputs": [
    {
     "name": "stdout",
     "output_type": "stream",
     "text": [
      "5 4 3 2 1 "
     ]
    }
   ],
   "source": [
    "#Reverse an array using temporary variable\n",
    "\n",
    "# function to reverse the array\n",
    "def reverseArray(arr):\n",
    "    n =len(arr)\n",
    "\n",
    "    #temporary variable to hold the value\n",
    "    temp =[0]*n\n",
    "    for i in range(n):\n",
    "        temp[i]=arr[n-1-i]\n",
    "\n",
    "    for i in range(n):\n",
    "        arr[i]=temp[i]\n",
    "\n",
    "if __name__ == \"__main__\":\n",
    "    arr = [1,2,3,4,5]\n",
    "    reverseArray(arr)\n",
    "\n",
    "    for i in range(len(arr)):\n",
    "        print(arr[i], end=' ')"
   ]
  },
  {
   "cell_type": "code",
   "execution_count": 4,
   "id": "d21e6d19",
   "metadata": {},
   "outputs": [
    {
     "name": "stdout",
     "output_type": "stream",
     "text": [
      "[1, 2, 3, 4, 5]\n",
      "reverseArray(arr) =  [5, 4, 3, 2, 1]\n"
     ]
    }
   ],
   "source": [
    "def reverseArray(arr):\n",
    "    n = len(arr)\n",
    "    temp =[0]*n\n",
    "\n",
    "    for i in range(n):\n",
    "        temp[i]=arr[n-1-i]\n",
    "\n",
    "    return temp\n",
    "\n",
    "arr = [1, 2, 3, 4, 5]\n",
    "print(arr)\n",
    "print(\"reverseArray(arr) = \", reverseArray(arr))"
   ]
  },
  {
   "cell_type": "code",
   "execution_count": 5,
   "id": "d6ca4141",
   "metadata": {},
   "outputs": [
    {
     "name": "stdout",
     "output_type": "stream",
     "text": [
      "Origninal Array: [10, 20, 30, 40]\n",
      "Reversed Array: [40, 30, 20, 10]\n"
     ]
    }
   ],
   "source": [
    "def reverseArray(arr):\n",
    "    n = len(arr)\n",
    "    temp = [0]*n\n",
    "    for i in range(n):\n",
    "        temp[i]=arr[n-1-i]\n",
    "\n",
    "    return temp\n",
    "\n",
    "arr = [10,20,30,40]\n",
    "print(f\"Origninal Array: {arr}\")\n",
    "print(f\"Reversed Array: {reverseArray(arr)}\")"
   ]
  },
  {
   "cell_type": "code",
   "execution_count": 6,
   "id": "a71f1aa4",
   "metadata": {},
   "outputs": [
    {
     "name": "stdout",
     "output_type": "stream",
     "text": [
      "Original Array: [1, 2, 3, 4, 5]\n",
      "Reversed Array: [5, 4, 3, 2, 1]\n"
     ]
    }
   ],
   "source": [
    "# Slicing method to reverse an array\n",
    "def reverseArray(arr):\n",
    "    return arr[::-1]\n",
    "\n",
    "arr = [1, 2, 3, 4, 5]\n",
    "print(\"Original Array:\", arr)\n",
    "print(\"Reversed Array:\", reverseArray(arr))"
   ]
  },
  {
   "cell_type": "code",
   "execution_count": 7,
   "id": "df695b28",
   "metadata": {},
   "outputs": [
    {
     "name": "stdout",
     "output_type": "stream",
     "text": [
      "Original Array: [1, 2, 3, 4, 5]\n",
      "Reversed Array: [5, 3, 1]\n"
     ]
    }
   ],
   "source": [
    "def reverseArray(arr):\n",
    "    return arr[::-2]\n",
    "\n",
    "arr = [1, 2, 3, 4, 5]\n",
    "print(\"Original Array:\", arr)\n",
    "print(\"Reversed Array:\", reverseArray(arr))"
   ]
  },
  {
   "cell_type": "code",
   "execution_count": 9,
   "id": "26f93114",
   "metadata": {},
   "outputs": [
    {
     "name": "stdout",
     "output_type": "stream",
     "text": [
      "Original Array: [1, 2, 3, 4, 5]\n",
      "Reverse Array: [5, 4, 3, 2, 1]\n"
     ]
    }
   ],
   "source": [
    "# This code reverses an array Using Two Pointers\n",
    "\n",
    "def reverseArray(arr):\n",
    "    left = 0\n",
    "    right = len(arr) - 1\n",
    "    while left < right:\n",
    "        arr[left],arr[right]= arr[right],arr[left]\n",
    "        left += 1\n",
    "        right -= 1\n",
    "    return arr\n",
    "\n",
    "arr = [1, 2, 3, 4, 5]\n",
    "print(\"Original Array:\", arr)\n",
    "print(f\"Reverse Array: {reverseArray(arr)}\")"
   ]
  },
  {
   "cell_type": "code",
   "execution_count": null,
   "id": "9a0e9fe9",
   "metadata": {},
   "outputs": [],
   "source": [
    "\n",
    "def reverseArray(arr):\n",
    "    left = 0\n",
    "    right = len(arr) - 1\n",
    "    while left<right:\n",
    "        arr[left], arr[right] = arr[right], arr[left]\n",
    "        left += 1\n",
    "        right -= 1\n",
    "    return arr"
   ]
  },
  {
   "cell_type": "code",
   "execution_count": 11,
   "id": "078b8b18",
   "metadata": {},
   "outputs": [
    {
     "name": "stdout",
     "output_type": "stream",
     "text": [
      "Original Array: [1, 2, 3, 4, 5]\n",
      "Reversed Array: [5, 4, 3, 2, 1]\n"
     ]
    }
   ],
   "source": [
    "# Recursive function to reverse an array\n",
    "\n",
    "def reverseArrayRec(arr,left,right):\n",
    "    if left >= right:\n",
    "        return arr\n",
    "    \n",
    "    arr[left],arr[right] = arr[right],arr[left]\n",
    "    return reverseArrayRec(arr,left + 1,right-1)\n",
    "\n",
    "def reverseArray(arr):\n",
    "    n = len(arr)\n",
    "    return reverseArrayRec(arr,0,n-1)\n",
    "\n",
    "arr = [1, 2, 3, 4, 5]\n",
    "print(\"Original Array:\", arr)   \n",
    "print(\"Reversed Array:\", reverseArray(arr))"
   ]
  },
  {
   "cell_type": "code",
   "execution_count": 12,
   "id": "5f432516",
   "metadata": {},
   "outputs": [
    {
     "name": "stdout",
     "output_type": "stream",
     "text": [
      "Original Array: [1, 2, 3, 4, 5]\n",
      "Reversed Array: [5, 4, 3, 2, 1]\n"
     ]
    }
   ],
   "source": [
    "def reverseArray(arr):\n",
    "    arr.reverse()\n",
    "    return arr\n",
    "\n",
    "arr = [1, 2, 3, 4, 5]\n",
    "print(\"Original Array:\", arr)   \n",
    "print(\"Reversed Array:\", reverseArray(arr))"
   ]
  }
 ],
 "metadata": {
  "kernelspec": {
   "display_name": "Python 3",
   "language": "python",
   "name": "python3"
  },
  "language_info": {
   "codemirror_mode": {
    "name": "ipython",
    "version": 3
   },
   "file_extension": ".py",
   "mimetype": "text/x-python",
   "name": "python",
   "nbconvert_exporter": "python",
   "pygments_lexer": "ipython3",
   "version": "3.12.2"
  }
 },
 "nbformat": 4,
 "nbformat_minor": 5
}
